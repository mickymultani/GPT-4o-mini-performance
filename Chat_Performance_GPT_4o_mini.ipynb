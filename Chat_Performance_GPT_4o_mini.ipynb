{
  "nbformat": 4,
  "nbformat_minor": 0,
  "metadata": {
    "colab": {
      "provenance": []
    },
    "kernelspec": {
      "name": "python3",
      "display_name": "Python 3"
    },
    "language_info": {
      "name": "python"
    }
  },
  "cells": [
    {
      "cell_type": "markdown",
      "source": [
        "Chat test for different GPT models. Significant speed improvement using gpt-4o-mini compared to gpt-4, gpt-4-turbo and gtp-4o."
      ],
      "metadata": {
        "id": "eSJ-kmdkS53c"
      }
    },
    {
      "cell_type": "code",
      "source": [
        "!pip install --upgrade openai tiktoken"
      ],
      "metadata": {
        "id": "m0VY6O6EPMgn"
      },
      "execution_count": null,
      "outputs": []
    },
    {
      "cell_type": "code",
      "source": [
        "#replace with your api key, or this won't work otherwise!\n",
        "client = openai.OpenAI(api_key='sk-proj-GPka6L3njVWSsAKW5TPWT3BlbkFJ8aW04Os7I1zBXgS5Fnk1')"
      ],
      "metadata": {
        "id": "HNeUBjsrQaRf"
      },
      "execution_count": null,
      "outputs": []
    },
    {
      "cell_type": "code",
      "source": [
        "import openai, time, tiktoken"
      ],
      "metadata": {
        "id": "xlY3qCY7Qhfc"
      },
      "execution_count": null,
      "outputs": []
    },
    {
      "cell_type": "code",
      "source": [
        "def num_tokens_from_string(string: str, model: str) -> int:\n",
        "    encoding = tiktoken.encoding_for_model(model)\n",
        "    return len(encoding.encode(string))"
      ],
      "metadata": {
        "id": "dKuvTwPLNcmC"
      },
      "execution_count": null,
      "outputs": []
    },
    {
      "cell_type": "code",
      "source": [
        "def get_response(prompt, model):\n",
        "    start_time = time.time()\n",
        "    response = client.chat.completions.create(\n",
        "        model=model,\n",
        "        messages=[{\"role\": \"user\", \"content\": prompt}]\n",
        "    )\n",
        "    end_time = time.time()\n",
        "    content = response.choices[0].message.content\n",
        "\n",
        "    input_tokens = num_tokens_from_string(prompt, model)\n",
        "    output_tokens = num_tokens_from_string(content, model)\n",
        "\n",
        "    return content, end_time - start_time, input_tokens, output_tokens"
      ],
      "metadata": {
        "id": "PJJ7BIySNeLF"
      },
      "execution_count": null,
      "outputs": []
    },
    {
      "cell_type": "code",
      "source": [
        "def chat_loop(model):\n",
        "    total_input_tokens = 0\n",
        "    total_output_tokens = 0\n",
        "    while True:\n",
        "        user_input = input(\"You: \")\n",
        "        if user_input.lower() == 'quit':\n",
        "            break\n",
        "        response, response_time, input_tokens, output_tokens = get_response(user_input, model)\n",
        "        print(f\"Bot: {response}\")\n",
        "        print(f\"Response time: {response_time:.2f} seconds\")\n",
        "        print(f\"Input tokens: {input_tokens}\")\n",
        "        print(f\"Output tokens: {output_tokens}\")\n",
        "\n",
        "        total_input_tokens += input_tokens\n",
        "        total_output_tokens += output_tokens\n",
        "\n",
        "    print(f\"\\nTotal tokens used in this session:\")\n",
        "    print(f\"Input tokens: {total_input_tokens}\")\n",
        "    print(f\"Output tokens: {total_output_tokens}\")\n",
        "    print(f\"Total tokens: {total_input_tokens + total_output_tokens}\")\n",
        "\n",
        "models = [\"gpt-3.5-turbo\", \"gpt-4\", \"gpt-4-turbo\", \"gpt-4o\", \"gpt-4o-mini\"]\n",
        "\n",
        "while True:\n",
        "    print(\"\\nSelect a model:\")\n",
        "    for i, model in enumerate(models):\n",
        "        print(f\"{i+1}. {model}\")\n",
        "    choice = int(input(\"Enter your choice (or 0 to quit): \"))\n",
        "    if choice == 0:\n",
        "        break\n",
        "    selected_model = models[choice-1]\n",
        "    print(f\"\\nChatting with {selected_model}. Type 'quit' to exit.\")\n",
        "    chat_loop(selected_model)"
      ],
      "metadata": {
        "colab": {
          "base_uri": "https://localhost:8080/"
        },
        "id": "fnqraZlWNhkw",
        "outputId": "66b3527d-2ec8-4d1c-b248-509c180bbf90"
      },
      "execution_count": null,
      "outputs": [
        {
          "name": "stdout",
          "output_type": "stream",
          "text": [
            "\n",
            "Select a model:\n",
            "1. gpt-3.5-turbo\n",
            "2. gpt-4\n",
            "3. gpt-4-turbo\n",
            "4. gpt-4o\n",
            "5. gpt-4o-mini\n",
            "Enter your choice (or 0 to quit): 3\n",
            "\n",
            "Chatting with gpt-4-turbo. Type 'quit' to exit.\n",
            "You: why is the sky blue?\n",
            "Bot: The blue color of the sky is primarily due to a phenomenon called Rayleigh scattering. Sunlight, which consists of light of multiple wavelengths, interacts with molecules in the Earth's atmosphere.\n",
            "\n",
            "When sunlight enters the atmosphere, it collides with the particles and gases there. These particles are much smaller than the wavelength of visible light, and when light hits them, the shorter wavelengths (blue and violet) are scattered more widely than the longer wavelengths (red and orange). \n",
            "\n",
            "Although violet light is scattered even more than blue light, the sky doesn't appear violet because our eyes are more sensitive to blue light and because much of the violet light is absorbed by the upper layers of the atmosphere.\n",
            "\n",
            "This scattering causes the sky to appear blue most of the time. Additionally, at sunrise and sunset, the sky can appear red and orange because the sun's light passes through more of the atmosphere, scattering short-wavelength light (blue and violet) out of the line of sight and allowing longer wavelengths (red and orange) to reach observers' eyes.\n",
            "Response time: 8.19 seconds\n",
            "Input tokens: 6\n",
            "Output tokens: 206\n",
            "You: quit\n",
            "\n",
            "Total tokens used in this session:\n",
            "Input tokens: 6\n",
            "Output tokens: 206\n",
            "Total tokens: 212\n",
            "\n",
            "Select a model:\n",
            "1. gpt-3.5-turbo\n",
            "2. gpt-4\n",
            "3. gpt-4-turbo\n",
            "4. gpt-4o\n",
            "5. gpt-4o-mini\n",
            "Enter your choice (or 0 to quit): 4\n",
            "\n",
            "Chatting with gpt-4o. Type 'quit' to exit.\n",
            "You: why is the sky blue?\n",
            "Bot: The sky appears blue because of a phenomenon called Rayleigh scattering. When sunlight enters Earth's atmosphere, it encounters molecules and small particles that scatter the light in different directions. Sunlight, or white light, is made up of various colors, each with different wavelengths. Blue light has a shorter wavelength and higher energy compared to other colors like red or yellow.\n",
            "\n",
            "Shorter wavelengths of light, such as blue and violet, are scattered more effectively by the gases and particles in the atmosphere. However, our eyes are more sensitive to blue light and less so to violet light, partly because some of the violet light is absorbed by the upper atmosphere. As a result, we see the sky as blue.\n",
            "\n",
            "During sunrise and sunset, the sky can look red or orange because the sun's light has to pass through more of the Earth's atmosphere. This increased distance scatters the shorter blue wavelengths out of your line of sight, leaving the longer red and orange wavelengths to dominate.\n",
            "Response time: 5.81 seconds\n",
            "Input tokens: 6\n",
            "Output tokens: 190\n",
            "You: quit\n",
            "\n",
            "Total tokens used in this session:\n",
            "Input tokens: 6\n",
            "Output tokens: 190\n",
            "Total tokens: 196\n",
            "\n",
            "Select a model:\n",
            "1. gpt-3.5-turbo\n",
            "2. gpt-4\n",
            "3. gpt-4-turbo\n",
            "4. gpt-4o\n",
            "5. gpt-4o-mini\n",
            "Enter your choice (or 0 to quit): 5\n",
            "\n",
            "Chatting with gpt-4o-mini. Type 'quit' to exit.\n",
            "You: why is the sky blue?\n",
            "Bot: The sky appears blue primarily due to a phenomenon called Rayleigh scattering. Sunlight, or white light, is made up of many colors, each with different wavelengths. When sunlight enters the Earth's atmosphere, it collides with gas molecules and small particles. \n",
            "\n",
            "Shorter wavelengths of light, such as blue and violet, are scattered in all directions more than longer wavelengths, like red and yellow. While both blue and violet light are scattered, our eyes are more sensitive to blue light, and some of the violet light is absorbed by the ozone layer in the atmosphere. As a result, we perceive the sky as predominantly blue during the day.\n",
            "\n",
            "At sunrise and sunset, the sun's light passes through a thicker layer of the atmosphere, scattering the shorter blue wavelengths even more and allowing the longer wavelengths, such as red and orange, to dominate the sky's appearance at those times.\n",
            "Response time: 2.54 seconds\n",
            "Input tokens: 6\n",
            "Output tokens: 174\n",
            "You: quit\n",
            "\n",
            "Total tokens used in this session:\n",
            "Input tokens: 6\n",
            "Output tokens: 174\n",
            "Total tokens: 180\n",
            "\n",
            "Select a model:\n",
            "1. gpt-3.5-turbo\n",
            "2. gpt-4\n",
            "3. gpt-4-turbo\n",
            "4. gpt-4o\n",
            "5. gpt-4o-mini\n",
            "Enter your choice (or 0 to quit): 0\n"
          ]
        }
      ]
    }
  ]
}